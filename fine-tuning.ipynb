{
 "cells": [
  {
   "cell_type": "markdown",
   "metadata": {
    "deletable": true,
    "editable": true
   },
   "source": [
    "# Fine-tuning Deep Learning models\n",
    "When possible, it is a good idea to fine-tune existing CNN that have been pre-trained on large dataset. This can be done when the dataset under consideration is similar in context to the dataset that has been used to pre-train the model. We can then used a state of the art CNN that has already learned features that are relevant to our own deep learning task. We are then only left with calculating the bottleneck features of the pre-trained CNN and fine-tuned the pre-trained weights.\n",
    "\n",
    "In the following, we use the ResNet50 deep learning model. The model is available in keras along with its weights pre-trained on the [ImageNet](http://www.image-net.org/) dataset, a collection of 1.2M labeled images with the presence of 1000 object categories."
   ]
  },
  {
   "cell_type": "code",
   "execution_count": null,
   "metadata": {
    "collapsed": true,
    "deletable": true,
    "editable": true
   },
   "outputs": [],
   "source": []
  }
 ],
 "metadata": {
  "kernelspec": {
   "display_name": "Python 3",
   "language": "python",
   "name": "python3"
  },
  "language_info": {
   "codemirror_mode": {
    "name": "ipython",
    "version": 3
   },
   "file_extension": ".py",
   "mimetype": "text/x-python",
   "name": "python",
   "nbconvert_exporter": "python",
   "pygments_lexer": "ipython3",
   "version": "3.5.3"
  }
 },
 "nbformat": 4,
 "nbformat_minor": 2
}
